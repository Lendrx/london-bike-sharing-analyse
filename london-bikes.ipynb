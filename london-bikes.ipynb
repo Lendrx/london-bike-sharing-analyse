{
 "cells": [
  {
   "cell_type": "markdown",
   "metadata": {},
   "source": [
    "# London Bike-Sharing Datenanalyse\n",
    "\n",
    "Dieses Notebook bereitet die London Bike-Sharing Daten für die Analyse in Tableau vor. \n",
    "Es umfasst folgende Schritte:\n",
    "1. Daten von Kaggle laden\n",
    "2. Grundlegende Datenbereinigung\n",
    "3. Feature Engineering\n",
    "4. Export für Tableau\n",
    "\n",
    "## Datenbeschreibung\n",
    "- timestamp: Zeitstempel der Messung\n",
    "- cnt: Anzahl der Fahrräder\n",
    "- t1: Reale Temperatur in °C\n",
    "- t2: Gefühlte Temperatur in °C\n",
    "- hum: Luftfeuchtigkeit in %\n",
    "- wind_speed: Windgeschwindigkeit in km/h\n",
    "- weather_code: Wetterbedingungen (kodiert)\n",
    "- is_holiday: Feiertag (0/1)\n",
    "- is_weekend: Wochenende (0/1)\n",
    "- season: Jahreszeit (0-3)"
   ]
  },
  {
   "cell_type": "code",
   "execution_count": 1,
   "metadata": {},
   "outputs": [
    {
     "name": "stdout",
     "output_type": "stream",
     "text": [
      "Python-Pakete erfolgreich geladen\n"
     ]
    }
   ],
   "source": [
    "# Benötigte Bibliotheken importieren\n",
    "import pandas as pd          # Für Datenverarbeitung\n",
    "import zipfile              # Zum Entpacken der Kaggle-Daten\n",
    "import kaggle               # Für Kaggle API\n",
    "import openpyxl            # Für Excel-Export\n",
    "\n",
    "print(\"Python-Pakete erfolgreich geladen\")"
   ]
  },
  {
   "cell_type": "markdown",
   "metadata": {},
   "source": [
    "## 1. Daten laden\n",
    "Zunächst laden wir die Daten von Kaggle herunter und extrahieren sie."
   ]
  },
  {
   "cell_type": "code",
   "execution_count": 2,
   "metadata": {},
   "outputs": [
    {
     "name": "stdout",
     "output_type": "stream",
     "text": [
      "Dataset URL: https://www.kaggle.com/datasets/hmavrodiev/london-bike-sharing-dataset\n",
      "License(s): other\n",
      "london-bike-sharing-dataset.zip: Skipping, found more recently modified local copy (use --force to force download)\n",
      "Daten erfolgreich geladen\n"
     ]
    }
   ],
   "source": [
    "# Kaggle-Dataset herunterladen\n",
    "!kaggle datasets download -d hmavrodiev/london-bike-sharing-dataset\n",
    "\n",
    "# Daten aus ZIP-Datei extrahieren\n",
    "zipfile_name = 'london-bike-sharing-dataset.zip'\n",
    "with zipfile.ZipFile(zipfile_name, 'r') as file:\n",
    "    file.extractall()\n",
    "\n",
    "# CSV in DataFrame laden\n",
    "BIKES = pd.read_csv('london_merged.csv')\n",
    "print(\"Daten erfolgreich geladen\")"
   ]
  },
  {
   "cell_type": "markdown",
   "metadata": {},
   "source": [
    "## 2. Datenexploration\n",
    "Überprüfen der Struktur und Qualität der Daten"
   ]
  },
  {
   "cell_type": "code",
   "execution_count": 3,
   "metadata": {},
   "outputs": [
    {
     "name": "stdout",
     "output_type": "stream",
     "text": [
      "Datenstruktur:\n",
      "--------------------------------------------------\n",
      "<class 'pandas.core.frame.DataFrame'>\n",
      "RangeIndex: 17414 entries, 0 to 17413\n",
      "Data columns (total 10 columns):\n",
      " #   Column        Non-Null Count  Dtype  \n",
      "---  ------        --------------  -----  \n",
      " 0   timestamp     17414 non-null  object \n",
      " 1   cnt           17414 non-null  int64  \n",
      " 2   t1            17414 non-null  float64\n",
      " 3   t2            17414 non-null  float64\n",
      " 4   hum           17414 non-null  float64\n",
      " 5   wind_speed    17414 non-null  float64\n",
      " 6   weather_code  17414 non-null  float64\n",
      " 7   is_holiday    17414 non-null  float64\n",
      " 8   is_weekend    17414 non-null  float64\n",
      " 9   season        17414 non-null  float64\n",
      "dtypes: float64(8), int64(1), object(1)\n",
      "memory usage: 1.3+ MB\n",
      "\n",
      "Fehlende Werte:\n",
      "--------------------------------------------------\n",
      "timestamp       0\n",
      "cnt             0\n",
      "t1              0\n",
      "t2              0\n",
      "hum             0\n",
      "wind_speed      0\n",
      "weather_code    0\n",
      "is_holiday      0\n",
      "is_weekend      0\n",
      "season          0\n",
      "dtype: int64\n"
     ]
    }
   ],
   "source": [
    "# Überblick über die Datenstruktur\n",
    "print(\"Datenstruktur:\")\n",
    "print(\"-\" * 50)\n",
    "BIKES.info()\n",
    "\n",
    "print(\"\\nFehlende Werte:\")\n",
    "print(\"-\" * 50)\n",
    "print(BIKES.isnull().sum())"
   ]
  },
  {
   "cell_type": "code",
   "execution_count": 4,
   "metadata": {},
   "outputs": [
    {
     "name": "stdout",
     "output_type": "stream",
     "text": [
      "Datensatzgröße: (17414, 10)\n"
     ]
    }
   ],
   "source": [
    "# Überprüfung der Datenform\n",
    "print(\"Datensatzgröße:\", BIKES.shape)"
   ]
  },
  {
   "cell_type": "markdown",
   "metadata": {},
   "source": [
    "## 3. Feature Engineering\n",
    "Aufbereitung der Daten für die Analyse durch:\n",
    "1. Vereinheitlichung der Spaltennamen\n",
    "2. Umwandlung der Wettercodes\n",
    "3. Zuordnung der Jahreszeiten\n",
    "4. Normalisierung der Luftfeuchtigkeit"
   ]
  },
  {
   "cell_type": "code",
   "execution_count": 5,
   "metadata": {},
   "outputs": [],
   "source": [
    "# Spaltennamen für bessere Lesbarkeit anpassen\n",
    "column_mapping = {\n",
    "    'timestamp': 'time',\n",
    "    'cnt': 'counts',\n",
    "    't1': 'temp_real_c',\n",
    "    't2': 'temp_feels_like_c',\n",
    "    'hum': 'humidity_percent',\n",
    "    'wind_speed': 'wind_speed_kph',\n",
    "    'weather_code': 'weather',\n",
    "    'is_holiday': 'is_holiday',\n",
    "    'is_weekend': 'is_weekend',\n",
    "    'season': 'season'\n",
    "}"
   ]
  },
  {
   "cell_type": "code",
   "execution_count": 6,
   "metadata": {},
   "outputs": [],
   "source": [
    "# Weather Codes in lesbare Bezeichnungen umwandeln\n",
    "weather_mapping = {\n",
    "    '1.0': 'Clear',              # Klarer Himmel\n",
    "    '2.0': 'Scattered Clouds',   # Vereinzelte Wolken\n",
    "    '3.0': 'Broken Clouds',      # Aufgelockerte Bewölkung\n",
    "    '4.0': 'Cloudy',            # Bewölkt\n",
    "    '7.0': 'Rain',              # Regen\n",
    "    '10.0': 'Rain with Thunderstorm',  # Gewitter\n",
    "    '26.0': 'Snowfall'          # Schneefall\n",
    "}\n",
    "\n",
    "# Jahreszeiten zuordnen\n",
    "season_mapping = {\n",
    "    '0.0': 'spring',  # Frühling\n",
    "    '1.0': 'summer',  # Sommer\n",
    "    '2.0': 'autumn',  # Herbst\n",
    "    '3.0': 'winter'   # Winter\n",
    "}"
   ]
  },
  {
   "cell_type": "code",
   "execution_count": 7,
   "metadata": {},
   "outputs": [],
   "source": [
    "# Datentransformation durchführen\n",
    "BIKES.rename(column_mapping, axis=1, inplace=True)\n",
    "BIKES['weather'] = BIKES['weather'].astype('str').map(weather_mapping)\n",
    "BIKES['season'] = BIKES['season'].astype('str').map(season_mapping)\n",
    "BIKES['humidity_percent'] = BIKES['humidity_percent'] / 100  # Normalisierung"
   ]
  },
  {
   "cell_type": "markdown",
   "metadata": {},
   "source": [
    "## 4. Qualitätsprüfung\n",
    "Überprüfung der transformierten Daten"
   ]
  },
  {
   "cell_type": "code",
   "execution_count": 8,
   "metadata": {},
   "outputs": [
    {
     "name": "stdout",
     "output_type": "stream",
     "text": [
      "Beispieldaten:\n",
      "--------------------------------------------------\n"
     ]
    },
    {
     "data": {
      "text/html": [
       "<div>\n",
       "<style scoped>\n",
       "    .dataframe tbody tr th:only-of-type {\n",
       "        vertical-align: middle;\n",
       "    }\n",
       "\n",
       "    .dataframe tbody tr th {\n",
       "        vertical-align: top;\n",
       "    }\n",
       "\n",
       "    .dataframe thead th {\n",
       "        text-align: right;\n",
       "    }\n",
       "</style>\n",
       "<table border=\"1\" class=\"dataframe\">\n",
       "  <thead>\n",
       "    <tr style=\"text-align: right;\">\n",
       "      <th></th>\n",
       "      <th>time</th>\n",
       "      <th>counts</th>\n",
       "      <th>temp_real_c</th>\n",
       "      <th>temp_feels_like_c</th>\n",
       "      <th>humidity_percent</th>\n",
       "      <th>wind_speed_kph</th>\n",
       "      <th>weather</th>\n",
       "      <th>is_holiday</th>\n",
       "      <th>is_weekend</th>\n",
       "      <th>season</th>\n",
       "    </tr>\n",
       "  </thead>\n",
       "  <tbody>\n",
       "    <tr>\n",
       "      <th>0</th>\n",
       "      <td>2015-01-04 00:00:00</td>\n",
       "      <td>182</td>\n",
       "      <td>3.0</td>\n",
       "      <td>2.0</td>\n",
       "      <td>0.930</td>\n",
       "      <td>6.0</td>\n",
       "      <td>Broken Clouds</td>\n",
       "      <td>0.0</td>\n",
       "      <td>1.0</td>\n",
       "      <td>winter</td>\n",
       "    </tr>\n",
       "    <tr>\n",
       "      <th>1</th>\n",
       "      <td>2015-01-04 01:00:00</td>\n",
       "      <td>138</td>\n",
       "      <td>3.0</td>\n",
       "      <td>2.5</td>\n",
       "      <td>0.930</td>\n",
       "      <td>5.0</td>\n",
       "      <td>Clear</td>\n",
       "      <td>0.0</td>\n",
       "      <td>1.0</td>\n",
       "      <td>winter</td>\n",
       "    </tr>\n",
       "    <tr>\n",
       "      <th>2</th>\n",
       "      <td>2015-01-04 02:00:00</td>\n",
       "      <td>134</td>\n",
       "      <td>2.5</td>\n",
       "      <td>2.5</td>\n",
       "      <td>0.965</td>\n",
       "      <td>0.0</td>\n",
       "      <td>Clear</td>\n",
       "      <td>0.0</td>\n",
       "      <td>1.0</td>\n",
       "      <td>winter</td>\n",
       "    </tr>\n",
       "    <tr>\n",
       "      <th>3</th>\n",
       "      <td>2015-01-04 03:00:00</td>\n",
       "      <td>72</td>\n",
       "      <td>2.0</td>\n",
       "      <td>2.0</td>\n",
       "      <td>1.000</td>\n",
       "      <td>0.0</td>\n",
       "      <td>Clear</td>\n",
       "      <td>0.0</td>\n",
       "      <td>1.0</td>\n",
       "      <td>winter</td>\n",
       "    </tr>\n",
       "    <tr>\n",
       "      <th>4</th>\n",
       "      <td>2015-01-04 04:00:00</td>\n",
       "      <td>47</td>\n",
       "      <td>2.0</td>\n",
       "      <td>0.0</td>\n",
       "      <td>0.930</td>\n",
       "      <td>6.5</td>\n",
       "      <td>Clear</td>\n",
       "      <td>0.0</td>\n",
       "      <td>1.0</td>\n",
       "      <td>winter</td>\n",
       "    </tr>\n",
       "  </tbody>\n",
       "</table>\n",
       "</div>"
      ],
      "text/plain": [
       "                  time  counts  temp_real_c  temp_feels_like_c  \\\n",
       "0  2015-01-04 00:00:00     182          3.0                2.0   \n",
       "1  2015-01-04 01:00:00     138          3.0                2.5   \n",
       "2  2015-01-04 02:00:00     134          2.5                2.5   \n",
       "3  2015-01-04 03:00:00      72          2.0                2.0   \n",
       "4  2015-01-04 04:00:00      47          2.0                0.0   \n",
       "\n",
       "   humidity_percent  wind_speed_kph        weather  is_holiday  is_weekend  \\\n",
       "0             0.930             6.0  Broken Clouds         0.0         1.0   \n",
       "1             0.930             5.0          Clear         0.0         1.0   \n",
       "2             0.965             0.0          Clear         0.0         1.0   \n",
       "3             1.000             0.0          Clear         0.0         1.0   \n",
       "4             0.930             6.5          Clear         0.0         1.0   \n",
       "\n",
       "   season  \n",
       "0  winter  \n",
       "1  winter  \n",
       "2  winter  \n",
       "3  winter  \n",
       "4  winter  "
      ]
     },
     "execution_count": 8,
     "metadata": {},
     "output_type": "execute_result"
    }
   ],
   "source": [
    "# Überprüfen der ersten Zeilen\n",
    "print(\"Beispieldaten:\")\n",
    "print(\"-\" * 50)\n",
    "BIKES.head()"
   ]
  },
  {
   "cell_type": "markdown",
   "metadata": {},
   "source": [
    "## 5. Daten exportieren\n",
    "Export der aufbereiteten Daten für Tableau"
   ]
  },
  {
   "cell_type": "code",
   "execution_count": 9,
   "metadata": {},
   "outputs": [
    {
     "name": "stdout",
     "output_type": "stream",
     "text": [
      "Daten erfolgreich für Tableau exportiert\n"
     ]
    }
   ],
   "source": [
    "# Daten als Excel speichern\n",
    "BIKES.to_excel(\"london-bikes-final-data.xlsx\", sheet_name=\"data\")\n",
    "print(\"Daten erfolgreich für Tableau exportiert\")"
   ]
  },
  {
   "cell_type": "markdown",
   "metadata": {},
   "source": [
    "## Nächste Schritte\n",
    "Die aufbereiteten Daten können nun in Tableau verwendet werden für:\n",
    "- Analyse der Nutzungsmuster\n",
    "- Wettereinfluss-Visualisierung\n",
    "- Saisonale Trends\n",
    "- Tages- und Wochenzeitanalysen"
   ]
  }
 ],
 "metadata": {
  "kernelspec": {
   "display_name": ".venv",
   "language": "python",
   "name": "python3"
  },
  "language_info": {
   "codemirror_mode": {
    "name": "ipython",
    "version": 3
   },
   "file_extension": ".py",
   "mimetype": "text/x-python",
   "name": "python",
   "nbconvert_exporter": "python",
   "pygments_lexer": "ipython3",
   "version": "3.12.0"
  }
 },
 "nbformat": 4,
 "nbformat_minor": 2
}
